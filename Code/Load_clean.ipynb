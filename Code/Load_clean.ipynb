{
 "cells": [
  {
   "cell_type": "markdown",
   "id": "7a75c3ef-fed3-40c0-bd83-c1587eb01395",
   "metadata": {},
   "source": [
    "## Dublin AirBnb  -  Data analysis project "
   ]
  },
  {
   "cell_type": "markdown",
   "id": "f83711cd-06e9-48ca-a68f-7353b4a0aab3",
   "metadata": {},
   "source": [
    "Data: \r\n",
    "•\tCsv file: ‘lisitngs.csv’. A web-scraped csv file from the Airbnb website from ‘https://insideairbnb.com/get-the-data/’. The data is made up for 75 columns and 4734 rows. It contains information regarding the listing url, name and description of the listing, information about the host such as name, about, location, response time etc.details\r\n",
    "•\tHost; name, location, date they started hosting, about, if they are a superhost, how many listings they have.\r\n",
    "•\tAccommodation: Property type, Longitude, latitude,neighbourhood(~50% are blank), neighbourhood_cleansed (4 “neighbourhoods” of Dublin), number of bathrooms, bedrooms, beds, amenities, the price, minimum and maximum number of nights.\r\n",
    "•\tReviews: Overall rating, cleanliness, check in, communication, value, location.\r\n",
    "\r\n",
    "•\tGeojson file ‘neighbourhoods.geojson’ containing three columns one of which ‘neighbourhood_group’ is blank. The other columns are neighbourhood containing the values “Dublin, City, South Dublin, Fingal, Dn Laoghaire-Rathdown” which aligns with the neighbourhood_cleansed column in the listings file. The last column in geometry which contains the Polygon files for each of the 4 neighbourhoods.\r\n"
   ]
  },
  {
   "cell_type": "markdown",
   "id": "0910799e-7632-4c0b-9303-b5b6de576c36",
   "metadata": {},
   "source": [
    "### Load and Clean"
   ]
  },
  {
   "cell_type": "code",
   "execution_count": 3,
   "id": "b91b5f08-cb15-47b6-9d3f-99d30d29f2aa",
   "metadata": {
    "collapsed": true,
    "jupyter": {
     "outputs_hidden": true
    }
   },
   "outputs": [
    {
     "name": "stderr",
     "output_type": "stream",
     "text": [
      "C:\\Users\\EoinD\\AppData\\Local\\Programs\\Python\\Python310\\lib\\site-packages\\geopandas\\_compat.py:123: UserWarning: The Shapely GEOS version (3.11.1-CAPI-1.17.1) is incompatible with the GEOS version PyGEOS was compiled with (3.10.4-CAPI-1.16.2). Conversions between both will be slow.\n",
      "  warnings.warn(\n",
      "C:\\Users\\EoinD\\AppData\\Local\\Temp\\ipykernel_10628\\1438236441.py:2: UserWarning: Shapely 2.0 is installed, but because PyGEOS is also installed, GeoPandas will still use PyGEOS by default for now. To force to use and test Shapely 2.0, you have to set the environment variable USE_PYGEOS=0. You can do this before starting the Python process, or in your code before importing geopandas:\n",
      "\n",
      "import os\n",
      "os.environ['USE_PYGEOS'] = '0'\n",
      "import geopandas\n",
      "\n",
      "In a future release, GeoPandas will switch to using Shapely by default. If you are using PyGEOS directly (calling PyGEOS functions on geometries from GeoPandas), this will then stop working and you are encouraged to migrate from PyGEOS to Shapely 2.0 (https://shapely.readthedocs.io/en/latest/migration_pygeos.html).\n",
      "  import geopandas as gpd\n"
     ]
    }
   ],
   "source": [
    "import pandas as pd\n",
    "import geopandas as gpd\n",
    "import numpy as np"
   ]
  },
  {
   "cell_type": "code",
   "execution_count": 10,
   "id": "f391c22f-00a6-4f1e-b5e7-433e319311a1",
   "metadata": {},
   "outputs": [
    {
     "name": "stdout",
     "output_type": "stream",
     "text": [
      "C:\\Users\\EoinD\\Desktop\\CODING STUFF\\Projects\\AirBnb\\Airbnb-Analysis\\Code\n"
     ]
    }
   ],
   "source": [
    "import os\n",
    "print(os.getcwd())"
   ]
  },
  {
   "cell_type": "code",
   "execution_count": 16,
   "id": "7fbff2be-3e85-4d94-946d-30b97591d4d0",
   "metadata": {},
   "outputs": [
    {
     "name": "stdout",
     "output_type": "stream",
     "text": [
      "['.ipynb_checkpoints', 'Load_clean.ipynb']\n"
     ]
    }
   ],
   "source": [
    "print(os.listdir())"
   ]
  },
  {
   "cell_type": "code",
   "execution_count": 17,
   "id": "fb4f8214-d0cb-471f-b4b9-79cb556caf1a",
   "metadata": {},
   "outputs": [],
   "source": [
    "path = 'data/listings.csv'"
   ]
  },
  {
   "cell_type": "code",
   "execution_count": 22,
   "id": "3ca3f7fc-582b-4cbd-aef0-2ff3929daec5",
   "metadata": {},
   "outputs": [],
   "source": [
    "#### Load in the two files\n",
    "listings = pd.read_csv('listings.csv')\n",
    "dub_nb =  gpd.read_file('neighbourhoods.geojson')"
   ]
  },
  {
   "cell_type": "code",
   "execution_count": 23,
   "id": "008e84ae-bbc1-4d7c-be6f-a1119f3ee98f",
   "metadata": {
    "scrolled": true
   },
   "outputs": [
    {
     "name": "stdout",
     "output_type": "stream",
     "text": [
      "<class 'pandas.core.frame.DataFrame'>\n",
      "RangeIndex: 4734 entries, 0 to 4733\n",
      "Data columns (total 75 columns):\n",
      " #   Column                                        Non-Null Count  Dtype  \n",
      "---  ------                                        --------------  -----  \n",
      " 0   id                                            4734 non-null   int64  \n",
      " 1   listing_url                                   4734 non-null   object \n",
      " 2   scrape_id                                     4734 non-null   int64  \n",
      " 3   last_scraped                                  4734 non-null   object \n",
      " 4   source                                        4734 non-null   object \n",
      " 5   name                                          4734 non-null   object \n",
      " 6   description                                   4626 non-null   object \n",
      " 7   neighborhood_overview                         2261 non-null   object \n",
      " 8   picture_url                                   4734 non-null   object \n",
      " 9   host_id                                       4734 non-null   int64  \n",
      " 10  host_url                                      4734 non-null   object \n",
      " 11  host_name                                     4734 non-null   object \n",
      " 12  host_since                                    4734 non-null   object \n",
      " 13  host_location                                 3585 non-null   object \n",
      " 14  host_about                                    1986 non-null   object \n",
      " 15  host_response_time                            4421 non-null   object \n",
      " 16  host_response_rate                            4421 non-null   object \n",
      " 17  host_acceptance_rate                          4555 non-null   object \n",
      " 18  host_is_superhost                             4711 non-null   object \n",
      " 19  host_thumbnail_url                            4734 non-null   object \n",
      " 20  host_picture_url                              4734 non-null   object \n",
      " 21  host_neighbourhood                            3572 non-null   object \n",
      " 22  host_listings_count                           4734 non-null   int64  \n",
      " 23  host_total_listings_count                     4734 non-null   int64  \n",
      " 24  host_verifications                            4734 non-null   object \n",
      " 25  host_has_profile_pic                          4734 non-null   object \n",
      " 26  host_identity_verified                        4734 non-null   object \n",
      " 27  neighbourhood                                 2261 non-null   object \n",
      " 28  neighbourhood_cleansed                        4734 non-null   object \n",
      " 29  neighbourhood_group_cleansed                  0 non-null      float64\n",
      " 30  latitude                                      4734 non-null   float64\n",
      " 31  longitude                                     4734 non-null   float64\n",
      " 32  property_type                                 4734 non-null   object \n",
      " 33  room_type                                     4734 non-null   object \n",
      " 34  accommodates                                  4734 non-null   int64  \n",
      " 35  bathrooms                                     4733 non-null   float64\n",
      " 36  bathrooms_text                                4730 non-null   object \n",
      " 37  bedrooms                                      4731 non-null   float64\n",
      " 38  beds                                          4723 non-null   float64\n",
      " 39  amenities                                     4734 non-null   object \n",
      " 40  price                                         4734 non-null   object \n",
      " 41  minimum_nights                                4734 non-null   int64  \n",
      " 42  maximum_nights                                4734 non-null   int64  \n",
      " 43  minimum_minimum_nights                        4734 non-null   int64  \n",
      " 44  maximum_minimum_nights                        4734 non-null   int64  \n",
      " 45  minimum_maximum_nights                        4734 non-null   int64  \n",
      " 46  maximum_maximum_nights                        4734 non-null   int64  \n",
      " 47  minimum_nights_avg_ntm                        4734 non-null   float64\n",
      " 48  maximum_nights_avg_ntm                        4734 non-null   float64\n",
      " 49  calendar_updated                              0 non-null      float64\n",
      " 50  has_availability                              4681 non-null   object \n",
      " 51  availability_30                               4734 non-null   int64  \n",
      " 52  availability_60                               4734 non-null   int64  \n",
      " 53  availability_90                               4734 non-null   int64  \n",
      " 54  availability_365                              4734 non-null   int64  \n",
      " 55  calendar_last_scraped                         4734 non-null   object \n",
      " 56  number_of_reviews                             4734 non-null   int64  \n",
      " 57  number_of_reviews_ltm                         4734 non-null   int64  \n",
      " 58  number_of_reviews_l30d                        4734 non-null   int64  \n",
      " 59  first_review                                  3879 non-null   object \n",
      " 60  last_review                                   3879 non-null   object \n",
      " 61  review_scores_rating                          3883 non-null   float64\n",
      " 62  review_scores_accuracy                        3871 non-null   float64\n",
      " 63  review_scores_cleanliness                     3871 non-null   float64\n",
      " 64  review_scores_checkin                         3871 non-null   float64\n",
      " 65  review_scores_communication                   3871 non-null   float64\n",
      " 66  review_scores_location                        3871 non-null   float64\n",
      " 67  review_scores_value                           3871 non-null   float64\n",
      " 68  license                                       0 non-null      float64\n",
      " 69  instant_bookable                              4734 non-null   object \n",
      " 70  calculated_host_listings_count                4734 non-null   int64  \n",
      " 71  calculated_host_listings_count_entire_homes   4734 non-null   int64  \n",
      " 72  calculated_host_listings_count_private_rooms  4734 non-null   int64  \n",
      " 73  calculated_host_listings_count_shared_rooms   4734 non-null   int64  \n",
      " 74  reviews_per_month                             3879 non-null   float64\n",
      "dtypes: float64(18), int64(23), object(34)\n",
      "memory usage: 2.7+ MB\n"
     ]
    }
   ],
   "source": [
    "### Fistly we'll look at the listings information:\n",
    "listings.info()"
   ]
  },
  {
   "cell_type": "markdown",
   "id": "197b7ead-2016-4e9e-bfff-3fa5145e4c4c",
   "metadata": {},
   "source": [
    "The price column is an object as it contains both $ and commas, we want to convert it to a numeric.\n",
    "The neighbourhood column contains lots of missing values but may be of use later, so to make the merge easier between the listings and the geojson data we'll rename the neighbourhood column to neighbourhood_full and rename neighbourhood_cleansed to neighbourhood. \n",
    "We also want to build a geometry column using the longitude and latitude columns."
   ]
  },
  {
   "cell_type": "code",
   "execution_count": 24,
   "id": "0e5c2c10-0115-4ef2-95a3-60eae18a33bd",
   "metadata": {},
   "outputs": [
    {
     "name": "stderr",
     "output_type": "stream",
     "text": [
      "C:\\Users\\EoinD\\AppData\\Local\\Temp\\ipykernel_10628\\2726995093.py:1: FutureWarning: The default value of regex will change from True to False in a future version. In addition, single character regular expressions will *not* be treated as literal strings when regex=True.\n",
      "  listings['price'] = listings['price'].str.replace('$','').str.replace(',','')\n"
     ]
    }
   ],
   "source": [
    "listings['price'] = listings['price'].str.replace('$','').str.replace(',','')\n",
    "listings['price'] = pd.to_numeric(listings['price'])\n",
    "listings.rename(columns = {'neighbourhood': 'full_neighbourhood','neighbourhood_cleansed': 'neighbourhood'}, inplace = True)\n",
    "\n",
    "# listings['acomd_geometry'] = gpd.GeoDataFrame(\n",
    "#    listings, geometry = gpd.points_from_xy(x=listings.longitude, y = listings.latitude))\n",
    "\n",
    "listings.crs = dub_nb.crs"
   ]
  },
  {
   "cell_type": "code",
   "execution_count": 25,
   "id": "61469dbf-71a5-4a1d-8e0f-11c81f2c54e3",
   "metadata": {},
   "outputs": [],
   "source": [
    "listings = listings[listings['price'] != 45880.0]\n",
    "listings = listings[listings['price'] != 8820.0]"
   ]
  },
  {
   "cell_type": "code",
   "execution_count": 26,
   "id": "de918b82-8012-406c-b19b-53f3a752a603",
   "metadata": {},
   "outputs": [],
   "source": [
    "dub_map = listings.merge(dub_nb)"
   ]
  },
  {
   "cell_type": "code",
   "execution_count": 27,
   "id": "44a480cb-3473-4bab-bf0f-94fcc4a49ca7",
   "metadata": {},
   "outputs": [],
   "source": [
    "import seaborn as sns\n",
    "import matplotlib.pyplot as plt"
   ]
  },
  {
   "cell_type": "code",
   "execution_count": 28,
   "id": "5411beac-72fd-471c-a140-9359cf0259f1",
   "metadata": {},
   "outputs": [
    {
     "name": "stderr",
     "output_type": "stream",
     "text": [
      "C:\\Users\\EoinD\\AppData\\Local\\Programs\\Python\\Python310\\lib\\site-packages\\seaborn\\distributions.py:2619: FutureWarning: `distplot` is a deprecated function and will be removed in a future version. Please adapt your code to use either `displot` (a figure-level function with similar flexibility) or `histplot` (an axes-level function for histograms).\n",
      "  warnings.warn(msg, FutureWarning)\n",
      "C:\\Users\\EoinD\\AppData\\Local\\Programs\\Python\\Python310\\lib\\site-packages\\seaborn\\distributions.py:2103: FutureWarning: The `axis` variable is no longer used and will be removed. Instead, assign variables directly to `x` or `y`.\n",
      "  warnings.warn(msg, FutureWarning)\n"
     ]
    },
    {
     "data": {
      "text/plain": [
       "<AxesSubplot:xlabel='price', ylabel='Density'>"
      ]
     },
     "execution_count": 28,
     "metadata": {},
     "output_type": "execute_result"
    },
    {
     "data": {
      "image/png": "[encoded data removed]",
      "text/plain": [
       "<Figure size 720x576 with 1 Axes>"
      ]
     },
     "metadata": {
      "needs_background": "light"
     },
     "output_type": "display_data"
    }
   ],
   "source": [
    "plt.figure(figsize=(10, 8))\n",
    "x = [1,22,10]\n",
    "y = [4,56,67]\n",
    "sns.distplot(dub_map['price'], bins=500, rug=True)"
   ]
  },
  {
   "cell_type": "code",
   "execution_count": 29,
   "id": "216b203e-d774-40bd-bb0f-af01255c1ab5",
   "metadata": {},
   "outputs": [
    {
     "data": {
      "text/plain": [
       "14246.0"
      ]
     },
     "execution_count": 29,
     "metadata": {},
     "output_type": "execute_result"
    }
   ],
   "source": [
    "listings['price'].max()"
   ]
  },
  {
   "cell_type": "code",
   "execution_count": 30,
   "id": "d1172ea2-e00a-490c-8802-61eb137d0584",
   "metadata": {},
   "outputs": [
    {
     "data": {
      "text/plain": [
       "4649    14246.0\n",
       "176      2500.0\n",
       "1274     2500.0\n",
       "537      1700.0\n",
       "1472     1700.0\n",
       "         ...   \n",
       "2393      240.0\n",
       "2830      240.0\n",
       "3079      240.0\n",
       "3163      240.0\n",
       "3280      240.0\n",
       "Name: price, Length: 1000, dtype: float64"
      ]
     },
     "execution_count": 30,
     "metadata": {},
     "output_type": "execute_result"
    }
   ],
   "source": [
    "listings['price'].nlargest(1000)"
   ]
  },
  {
   "cell_type": "code",
   "execution_count": 31,
   "id": "7f1957da-8bb3-4e0d-b264-dfefe8229ccf",
   "metadata": {},
   "outputs": [
    {
     "data": {
      "text/plain": [
       "1023    15.0\n",
       "712     16.0\n",
       "2044    16.0\n",
       "776     17.0\n",
       "595     20.0\n",
       "856     20.0\n",
       "1202    20.0\n",
       "1316    20.0\n",
       "1896    20.0\n",
       "2880    20.0\n",
       "Name: price, dtype: float64"
      ]
     },
     "execution_count": 31,
     "metadata": {},
     "output_type": "execute_result"
    }
   ],
   "source": [
    "listings['price'].nsmallest(10)"
   ]
  },
  {
   "cell_type": "code",
   "execution_count": null,
   "id": "5e12aa06-c1fd-4b26-a3f5-e678fb1a50a5",
   "metadata": {},
   "outputs": [],
   "source": []
  }
 ],
 "metadata": {
  "kernelspec": {
   "display_name": "Python 3 (ipykernel)",
   "language": "python",
   "name": "python3"
  },
  "language_info": {
   "codemirror_mode": {
    "name": "ipython",
    "version": 3
   },
   "file_extension": ".py",
   "mimetype": "text/x-python",
   "name": "python",
   "nbconvert_exporter": "python",
   "pygments_lexer": "ipython3",
   "version": "3.10.3"
  }
 },
 "nbformat": 4,
 "nbformat_minor": 5
}
